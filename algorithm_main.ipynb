{
 "cells": [
  {
   "cell_type": "markdown",
   "metadata": {},
   "source": [
    "## 1. 1 또는 2 입력\n",
    "## 2. 파일 이름을 입력할 때 파일 사이는 ,으로 구분하고, 띄어쓰기, 따옴표는 금지!\n",
    "### - 예 >> 1-1. 이커머스 FC주문 데이터_3월.csv,1-2. 이커머스 FC주문 데이터_4월.csv,1-3. 이커머스 FC주문 데이터_5월.csv,1-4. 이커머스 FC주문 데이터_6월.csv\n",
    "## 3. 따옴표 금지\n",
    "### - 예 >> 4658408144_1\n"
   ]
  },
  {
   "cell_type": "code",
   "execution_count": 1,
   "metadata": {},
   "outputs": [],
   "source": [
    "from algorithm_tool import*\n",
    "import tensorflow as tf\n",
    "physical_devices = tf.config.list_physical_devices('GPU')\n",
    "try:\n",
    "  tf.config.experimental.set_memory_growth(physical_devices[0], True)\n",
    "except:\n",
    "  # Invalid device or cannot modify virtual devices once initialized.\n",
    "  pass"
   ]
  },
  {
   "cell_type": "code",
   "execution_count": 2,
   "metadata": {
    "scrolled": false
   },
   "outputs": [
    {
     "name": "stdout",
     "output_type": "stream",
     "text": [
      "★★★★★★★★★★★★★\n",
      "★  1. 예    측    값   ★\n",
      "★                      ★\n",
      "★  2. 지 역 별 수 량   ★\n",
      "★                      ★\n",
      "★  3. 종          료   ★\n",
      "★★★★★★★★★★★★★\n",
      "\n",
      "입력 >> 2\n",
      "파일이름 : 1-1. 이커머스 FC주문 데이터_3월.csv,1-2. 이커머스 FC주문 데이터_4월.csv,1-3. 이커머스 FC주문 데이터_5월.csv,1-4. 이커머스 FC주문 데이터_6월.csv\n",
      "상품코드 : 4658408144_1\n"
     ]
    },
    {
     "name": "stderr",
     "output_type": "stream",
     "text": [
      "C:\\Users\\User\\anaconda3\\envs\\tensorflow\\lib\\site-packages\\IPython\\core\\interactiveshell.py:3418: DtypeWarning: Columns (16,17) have mixed types.Specify dtype option on import or set low_memory=False.\n",
      "  exec(code_obj, self.user_global_ns, self.user_ns)\n",
      "C:\\Users\\User\\anaconda3\\envs\\tensorflow\\lib\\site-packages\\IPython\\core\\interactiveshell.py:3418: DtypeWarning: Columns (17) have mixed types.Specify dtype option on import or set low_memory=False.\n",
      "  exec(code_obj, self.user_global_ns, self.user_ns)\n"
     ]
    },
    {
     "data": {
      "text/plain": [
       "'C:\\\\project\\\\대한통운\\\\보낼 것\\\\render.html'"
      ]
     },
     "metadata": {},
     "output_type": "display_data"
    }
   ],
   "source": [
    "\n",
    "def menu():\n",
    "    print(\"★★★★★★★★★★★★★\")\n",
    "    print(\"★  1. 예    측    값   ★\")\n",
    "    print(\"★                      ★\")\n",
    "    print(\"★  2. 지 역 별 수 량   ★\")\n",
    "    print(\"★                      ★\")\n",
    "    print(\"★  3. 종          료   ★\")\n",
    "    print(\"★★★★★★★★★★★★★\")\n",
    "\n",
    "while True :\n",
    "    menu()\n",
    "    ch=int(input(\"\\n입력 >> \"))\n",
    "\n",
    "    if ch == 1:\n",
    "        file_names = input(\"파일이름 : \").split(sep = ',')\n",
    "        item_name = input(\"상품코드 : \")\n",
    "        pred,true = item_prediction(file_names, item_name)\n",
    "        true2 = sum(true)\n",
    "        print(\"실제 값: \",true,end=',')\n",
    "        print('전체 :',true2)\n",
    "        for i in range(len(pred)) :\n",
    "            if pred[i] <= 0 :\n",
    "                pred[i] = 0\n",
    "        pred2 = sum(pred)\n",
    "        print(\"예측 값:\",pred,end=',')\n",
    "        print('전체 :',pred2)\n",
    "        break\n",
    "\n",
    "    if ch == 2:\n",
    "        file_names2 = input(\"파일이름 : \").split(sep = ',')\n",
    "        item_name2 = input(\"상품코드 : \")\n",
    "        city_ratio(file_names2, item_name2)\n",
    "        break\n",
    "\n",
    "    if ch == 3:\n",
    "        break\n",
    "\n"
   ]
  },
  {
   "cell_type": "code",
   "execution_count": null,
   "metadata": {},
   "outputs": [],
   "source": []
  }
 ],
 "metadata": {
  "kernelspec": {
   "display_name": "Python 3",
   "language": "python",
   "name": "python3"
  },
  "language_info": {
   "codemirror_mode": {
    "name": "ipython",
    "version": 3
   },
   "file_extension": ".py",
   "mimetype": "text/x-python",
   "name": "python",
   "nbconvert_exporter": "python",
   "pygments_lexer": "ipython3",
   "version": "3.7.9"
  }
 },
 "nbformat": 4,
 "nbformat_minor": 4
}
